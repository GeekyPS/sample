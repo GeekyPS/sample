{
 "cells": [
  {
   "cell_type": "code",
   "execution_count": 1,
   "metadata": {},
   "outputs": [
    {
     "name": "stdout",
     "output_type": "stream",
     "text": [
      "2024-08-24 19:24:59,529 SequenceTagger predicts: Dictionary with 20 tags: <unk>, O, S-ORG, S-MISC, B-PER, E-PER, S-LOC, B-ORG, E-ORG, I-PER, S-PER, B-MISC, I-MISC, E-MISC, I-ORG, B-LOC, E-LOC, I-LOC, <START>, <STOP>\n"
     ]
    }
   ],
   "source": [
    "from flair.models import SequenceTagger\n",
    "from flair.data import Sentence\n",
    "\n",
    "\n",
    "tagger = SequenceTagger.load('ner')\n",
    "def extract_person_names(text,company,url):\n",
    "    try:\n",
    "        sentence = Sentence(text)\n",
    "        tagger.predict(sentence)\n",
    "        person_names = set(entity.text for entity in sentence.get_spans('ner') if entity.tag == 'PER')\n",
    "        print(f'Done for company {company} and webpage {url}')\n",
    "        ans =  list(person_names)\n",
    "\n",
    "        ans = [s.replace(company, \"\") for s in ans]\n",
    "        return ans\n",
    "    except Exception as e:\n",
    "        print(e)\n",
    "\n",
    "        return []\n",
    "\n"
   ]
  },
  {
   "cell_type": "code",
   "execution_count": 2,
   "metadata": {},
   "outputs": [],
   "source": [
    "import requests\n",
    "from bs4 import BeautifulSoup\n",
    "import os\n",
    "from PyPDF2 import PdfReader\n",
    "from urllib.parse import urlparse\n",
    "\n",
    "def extract_text(web_url, company):\n",
    "    try:\n",
    "        if web_url.lower().endswith('.pdf'):\n",
    "            pdf_filename = os.path.basename(urlparse(web_url).path)\n",
    "            \n",
    "            if not os.path.exists('documents'):\n",
    "                os.makedirs('documents')\n",
    "            \n",
    "            pdf_filepath = os.path.join('documents', pdf_filename)\n",
    "            \n",
    "            response = requests.get(web_url)\n",
    "            with open(pdf_filepath, 'wb') as f:\n",
    "                f.write(response.content)\n",
    "            \n",
    "            with open(pdf_filepath, 'rb') as f:\n",
    "                reader = PdfReader(f)\n",
    "                text = \"\"\n",
    "                for page in reader.pages:\n",
    "                    text += page.extract_text()\n",
    "            \n",
    "            print(f'Done for {web_url}')\n",
    "            return text\n",
    "\n",
    "        else:\n",
    "            response = requests.get(web_url)\n",
    "            soup = BeautifulSoup(response.content, 'html.parser')\n",
    "            text = soup.get_text()\n",
    "            print(f'Done for {web_url}')\n",
    "            return text\n",
    "\n",
    "    except Exception as e:\n",
    "        print(f'Failed at {web_url} and {company}: {str(e)}')\n",
    "\n",
    "\n"
   ]
  },
  {
   "cell_type": "code",
   "execution_count": 16,
   "metadata": {},
   "outputs": [],
   "source": [
    "from googlesearch import search\n",
    "\n",
    "def get_google_search_links(query, num_results=15):\n",
    "    search_results = search(query, num_results=num_results)\n",
    "    \n",
    "    links = [result for result in search_results]\n",
    "    \n",
    "    return links"
   ]
  },
  {
   "cell_type": "code",
   "execution_count": 17,
   "metadata": {},
   "outputs": [
    {
     "ename": "NameError",
     "evalue": "name 'get_google_search_links1' is not defined",
     "output_type": "error",
     "traceback": [
      "\u001b[0;31m---------------------------------------------------------------------------\u001b[0m",
      "\u001b[0;31mNameError\u001b[0m                                 Traceback (most recent call last)",
      "Cell \u001b[0;32mIn[17], line 1\u001b[0m\n\u001b[0;32m----> 1\u001b[0m \u001b[43mget_google_search_links1\u001b[49m(\u001b[38;5;124m'\u001b[39m\u001b[38;5;124mabc\u001b[39m\u001b[38;5;124m'\u001b[39m)\n",
      "\u001b[0;31mNameError\u001b[0m: name 'get_google_search_links1' is not defined"
     ]
    }
   ],
   "source": [
    "get_google_search_links1('abc')\n"
   ]
  },
  {
   "cell_type": "code",
   "execution_count": null,
   "metadata": {},
   "outputs": [],
   "source": []
  },
  {
   "cell_type": "code",
   "execution_count": null,
   "metadata": {},
   "outputs": [],
   "source": []
  },
  {
   "cell_type": "code",
   "execution_count": null,
   "metadata": {},
   "outputs": [],
   "source": []
  },
  {
   "cell_type": "code",
   "execution_count": 10,
   "metadata": {},
   "outputs": [
    {
     "data": {
      "text/plain": [
       "[]"
      ]
     },
     "execution_count": 10,
     "metadata": {},
     "output_type": "execute_result"
    }
   ],
   "source": [
    "company = input('Enter Company Name')\n",
    "\n",
    "query = f'{company}+UK+Testimonials'\n",
    "\n",
    "company_testimonials = bing_search_15(query)\n",
    "company_testimonials"
   ]
  },
  {
   "cell_type": "code",
   "execution_count": 99,
   "metadata": {},
   "outputs": [
    {
     "data": {
      "text/plain": [
       "[]"
      ]
     },
     "execution_count": 99,
     "metadata": {},
     "output_type": "execute_result"
    }
   ],
   "source": [
    "company_testimonials"
   ]
  },
  {
   "cell_type": "code",
   "execution_count": 85,
   "metadata": {},
   "outputs": [],
   "source": [
    "import concurrent.futures\n",
    "\n",
    "company_testimonials = [{\n",
    "    'company':company,\n",
    "    'web_url': company_testimonials\n",
    "}]\n",
    "def process_testimonial(comp):\n",
    "    company = comp['company']\n",
    "    web_sites = []\n",
    "    for url in comp['web_url']:\n",
    "        text = extract_text(url, company) \n",
    "\n",
    "        if text:\n",
    "            web_sites.append({'company': company, 'web_content': str(text),'url':url})\n",
    "    return web_sites\n",
    "\n",
    "all_web_sites = []\n",
    "\n",
    "with concurrent.futures.ThreadPoolExecutor() as executor:\n",
    "    results = executor.map(process_testimonial, company_testimonials)\n",
    "\n",
    "    for result in results:\n",
    "        all_web_sites.extend(result)\n",
    "\n"
   ]
  },
  {
   "cell_type": "code",
   "execution_count": 86,
   "metadata": {},
   "outputs": [],
   "source": [
    "row_list = []\n",
    "\n",
    "def process_website(part):\n",
    "    try:\n",
    "        text = part['web_content']\n",
    "        company = part['company']\n",
    "        url = part['url']\n",
    "        names = extract_person_names(text,company,url)\n",
    "        \n",
    "        return [{'Name': name, 'Company': company,'Testimonial Page':url} for name in names]\n",
    "    except:\n",
    "        print(names)\n",
    "        return []\n",
    "\n",
    "for web_site in all_web_sites:\n",
    "    result = process_website(web_site)\n",
    "    row_list.extend(result)       "
   ]
  },
  {
   "cell_type": "code",
   "execution_count": 87,
   "metadata": {},
   "outputs": [
    {
     "data": {
      "text/plain": [
       "0"
      ]
     },
     "execution_count": 87,
     "metadata": {},
     "output_type": "execute_result"
    }
   ],
   "source": [
    "len(row_list)"
   ]
  },
  {
   "cell_type": "code",
   "execution_count": 88,
   "metadata": {},
   "outputs": [
    {
     "data": {
      "text/plain": [
       "[]"
      ]
     },
     "execution_count": 88,
     "metadata": {},
     "output_type": "execute_result"
    }
   ],
   "source": [
    "row_list"
   ]
  },
  {
   "cell_type": "code",
   "execution_count": 89,
   "metadata": {},
   "outputs": [],
   "source": [
    "import pandas as pd\n",
    "\n",
    "df = pd.DataFrame(row_list)\n"
   ]
  },
  {
   "cell_type": "code",
   "execution_count": 90,
   "metadata": {},
   "outputs": [
    {
     "data": {
      "text/html": [
       "<div>\n",
       "<style scoped>\n",
       "    .dataframe tbody tr th:only-of-type {\n",
       "        vertical-align: middle;\n",
       "    }\n",
       "\n",
       "    .dataframe tbody tr th {\n",
       "        vertical-align: top;\n",
       "    }\n",
       "\n",
       "    .dataframe thead th {\n",
       "        text-align: right;\n",
       "    }\n",
       "</style>\n",
       "<table border=\"1\" class=\"dataframe\">\n",
       "  <thead>\n",
       "    <tr style=\"text-align: right;\">\n",
       "      <th></th>\n",
       "    </tr>\n",
       "  </thead>\n",
       "  <tbody>\n",
       "  </tbody>\n",
       "</table>\n",
       "</div>"
      ],
      "text/plain": [
       "Empty DataFrame\n",
       "Columns: []\n",
       "Index: []"
      ]
     },
     "execution_count": 90,
     "metadata": {},
     "output_type": "execute_result"
    }
   ],
   "source": [
    "df"
   ]
  },
  {
   "cell_type": "code",
   "execution_count": 91,
   "metadata": {},
   "outputs": [],
   "source": [
    "df.to_excel('Updated_list.xlsx',index=False)"
   ]
  },
  {
   "cell_type": "code",
   "execution_count": 92,
   "metadata": {},
   "outputs": [],
   "source": [
    "import openpyxl\n",
    "from openpyxl.utils import get_column_letter\n",
    "\n",
    "def convert_urls_to_hyperlinks(excel_file, sheet_name, url_column):\n",
    "    workbook = openpyxl.load_workbook(excel_file)\n",
    "    sheet = workbook[sheet_name]\n",
    "\n",
    "    col_letter = get_column_letter(url_column)\n",
    "\n",
    "    for row in range(2, sheet.max_row + 1): \n",
    "        cell = sheet[f\"{col_letter}{row}\"]\n",
    "        if isinstance(cell.value, str) and cell.value.startswith(\"http\"):\n",
    "            sheet[f\"{col_letter}{row}\"].hyperlink = cell.value\n",
    "            sheet[f\"{col_letter}{row}\"].value = 'Link'\n",
    "            sheet[f\"{col_letter}{row}\"].style = \"Hyperlink\"\n",
    "\n",
    "    workbook.save(excel_file)\n",
    "\n",
    "excel_file = 'Updated_list.xlsx'\n",
    "sheet_name = \"Sheet1\"\n",
    "url_column = 3  \n",
    "\n",
    "convert_urls_to_hyperlinks(excel_file, sheet_name, url_column)"
   ]
  },
  {
   "cell_type": "code",
   "execution_count": null,
   "metadata": {},
   "outputs": [],
   "source": []
  },
  {
   "cell_type": "code",
   "execution_count": null,
   "metadata": {},
   "outputs": [],
   "source": []
  },
  {
   "cell_type": "code",
   "execution_count": null,
   "metadata": {},
   "outputs": [],
   "source": []
  }
 ],
 "metadata": {
  "kernelspec": {
   "display_name": "Python 3",
   "language": "python",
   "name": "python3"
  },
  "language_info": {
   "codemirror_mode": {
    "name": "ipython",
    "version": 3
   },
   "file_extension": ".py",
   "mimetype": "text/x-python",
   "name": "python",
   "nbconvert_exporter": "python",
   "pygments_lexer": "ipython3",
   "version": "3.9.6"
  }
 },
 "nbformat": 4,
 "nbformat_minor": 2
}
