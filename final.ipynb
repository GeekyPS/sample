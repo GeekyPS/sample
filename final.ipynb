{
 "cells": [
  {
   "cell_type": "code",
   "execution_count": 6,
   "metadata": {},
   "outputs": [],
   "source": []
  },
  {
   "cell_type": "code",
   "execution_count": 7,
   "metadata": {},
   "outputs": [],
   "source": [
    "ans = google_search('Barclays UK Testimonials')"
   ]
  },
  {
   "cell_type": "code",
   "execution_count": 8,
   "metadata": {},
   "outputs": [
    {
     "data": {
      "text/plain": [
       "['https://uk.trustpilot.com/review/www.barclays.co.uk&sa=U&ved=2ahUKEwiigZ_hk4iIAxVos1YBHWAtJ8oQFnoECAYQAg&usg=AOvVaw1lKE_PwCtiTToB8_Zcvwlo',\n",
       " 'https://www.barclayscorporate.com/client-experience/client-stories/&sa=U&ved=2ahUKEwiigZ_hk4iIAxVos1YBHWAtJ8oQFnoECAoQAg&usg=AOvVaw2_HS72mOpFNAE5Zi3Wg9g2',\n",
       " 'https://www.reviews.io/company-reviews/store/barclays&sa=U&ved=2ahUKEwiigZ_hk4iIAxVos1YBHWAtJ8oQFnoECAQQAg&usg=AOvVaw3AYxLTZrrZ-G40b4_g8FQl',\n",
       " 'https://www.barclays.co.uk/business-banking/business-insight/feedback-economy/&sa=U&ved=2ahUKEwiigZ_hk4iIAxVos1YBHWAtJ8oQFnoECAwQAg&usg=AOvVaw1XngyvfK88NDD_N5gBb2V6',\n",
       " 'https://uk.trustpilot.com/review/home.barclays&sa=U&ved=2ahUKEwiigZ_hk4iIAxVos1YBHWAtJ8oQFnoECA4QAg&usg=AOvVaw21tr7eqWn4aUiR-cRmfSY5',\n",
       " 'https://www.glassdoor.co.in/Reviews/Barclays-Reviews-E3456.htm&sa=U&ved=2ahUKEwiigZ_hk4iIAxVos1YBHWAtJ8oQFnoECA0QAg&usg=AOvVaw2xMj-u1BGoPiW_7zr5dUwi',\n",
       " 'https://www.ib.barclays/investment-banking/client-stories.html&sa=U&ved=2ahUKEwiigZ_hk4iIAxVos1YBHWAtJ8oQFnoECAsQAg&usg=AOvVaw3vfoa8m_3L7kEI3fRXbZxY',\n",
       " 'https://www.glassdoor.co.uk/Reviews/Barclays-Reviews-E3456.htm&sa=U&ved=2ahUKEwiigZ_hk4iIAxVos1YBHWAtJ8oQFnoECAkQAg&usg=AOvVaw3Kp0_ydjkeIwFNwYrWMdRS',\n",
       " 'https://www.salesforce.com/uk/customer-success-stories/barclays/&sa=U&ved=2ahUKEwiigZ_hk4iIAxVos1YBHWAtJ8oQFnoECAAQAg&usg=AOvVaw0ulq9P45zkLcNckF735WtF',\n",
       " 'https://www.tripadvisor.com/ShowUserReviews-g190762-d21340132-r935930825-Barclays_Bank_Building-Wolverhampton_West_Midlands_England.html&sa=U&ved=2ahUKEwiigZ_hk4iIAxVos1YBHWAtJ8oQFnoECAUQAg&usg=AOvVaw3QYMvAMhqBsyE7K2_UDaNm',\n",
       " 'https://home.barclays/who-we-are/&sa=U&ved=2ahUKEwiigZ_hk4iIAxVos1YBHWAtJ8oQFnoECAMQAg&usg=AOvVaw0MP1VARALbk-RXCMPHwr6-',\n",
       " 'https://uk.indeed.com/cmp/Barclays/reviews&sa=U&ved=2ahUKEwiigZ_hk4iIAxVos1YBHWAtJ8oQFnoECAcQAg&usg=AOvVaw2ttd2Yc9NnctLSaeRLnA4y',\n",
       " 'https://www.reviews.io/company-reviews/store/smartinvestor.barclays.co.uk&sa=U&ved=2ahUKEwiigZ_hk4iIAxVos1YBHWAtJ8oQFnoECAIQAg&usg=AOvVaw0VPvJawu66tFiP0N_oL19p',\n",
       " 'https://www.businessinsider.com/personal-finance/banking/barclays-bank-review&sa=U&ved=2ahUKEwiigZ_hk4iIAxVos1YBHWAtJ8oQFnoECAEQAg&usg=AOvVaw2w-thjniIhSaHGDAdJ-1Hb',\n",
       " 'https://smartmoneypeople.com/barclays-reviews/product/barclays-bank-account&sa=U&ved=2ahUKEwiigZ_hk4iIAxVos1YBHWAtJ8oQFnoECA8QAg&usg=AOvVaw0SzV69Ii9IYW_cv-uNSJ-c']"
      ]
     },
     "execution_count": 8,
     "metadata": {},
     "output_type": "execute_result"
    }
   ],
   "source": [
    "ans"
   ]
  },
  {
   "cell_type": "code",
   "execution_count": null,
   "metadata": {},
   "outputs": [],
   "source": []
  },
  {
   "cell_type": "code",
   "execution_count": null,
   "metadata": {},
   "outputs": [],
   "source": []
  }
 ],
 "metadata": {
  "kernelspec": {
   "display_name": "Python 3",
   "language": "python",
   "name": "python3"
  },
  "language_info": {
   "codemirror_mode": {
    "name": "ipython",
    "version": 3
   },
   "file_extension": ".py",
   "mimetype": "text/x-python",
   "name": "python",
   "nbconvert_exporter": "python",
   "pygments_lexer": "ipython3",
   "version": "3.9.6"
  }
 },
 "nbformat": 4,
 "nbformat_minor": 2
}
